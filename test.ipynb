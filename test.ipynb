{
 "cells": [
  {
   "cell_type": "code",
   "execution_count": 1,
   "metadata": {},
   "outputs": [],
   "source": [
    "from AliOSS import OSS"
   ]
  },
  {
   "cell_type": "code",
   "execution_count": 3,
   "metadata": {},
   "outputs": [
    {
     "name": "stderr",
     "output_type": "stream",
     "text": [
      "2024-07-17 15:03:30 - Ali OSS logger - INFO - Connected to jakarta\n",
      "2024-07-17 15:03:30 - Ali OSS logger - INFO - Using transfer acceleration\n"
     ]
    }
   ],
   "source": [
    "oss=OSS.connect_oss(\"jakarta\")"
   ]
  }
 ],
 "metadata": {
  "kernelspec": {
   "display_name": "ali",
   "language": "python",
   "name": "python3"
  },
  "language_info": {
   "codemirror_mode": {
    "name": "ipython",
    "version": 3
   },
   "file_extension": ".py",
   "mimetype": "text/x-python",
   "name": "python",
   "nbconvert_exporter": "python",
   "pygments_lexer": "ipython3",
   "version": "3.9.19"
  }
 },
 "nbformat": 4,
 "nbformat_minor": 2
}
